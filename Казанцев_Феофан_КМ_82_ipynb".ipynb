{
  "nbformat": 4,
  "nbformat_minor": 0,
  "metadata": {
    "kernelspec": {
      "display_name": "Python 3",
      "language": "python",
      "name": "python3"
    },
    "language_info": {
      "codemirror_mode": {
        "name": "ipython",
        "version": 3
      },
      "file_extension": ".py",
      "mimetype": "text/x-python",
      "name": "python",
      "nbconvert_exporter": "python",
      "pygments_lexer": "ipython3",
      "version": "3.8.5"
    },
    "colab": {
      "name": "Казанцев Феофан КМ-82.ipynb\"",
      "provenance": [],
      "collapsed_sections": [],
      "include_colab_link": true
    }
  },
  "cells": [
    {
      "cell_type": "markdown",
      "metadata": {
        "id": "view-in-github",
        "colab_type": "text"
      },
      "source": [
        "<a href=\"https://colab.research.google.com/github/Feofan2021/MO/blob/main/%D0%9A%D0%B0%D0%B7%D0%B0%D0%BD%D1%86%D0%B5%D0%B2_%D0%A4%D0%B5%D0%BE%D1%84%D0%B0%D0%BD_%D0%9A%D0%9C_82_ipynb%22.ipynb\" target=\"_parent\"><img src=\"https://colab.research.google.com/assets/colab-badge.svg\" alt=\"Open In Colab\"/></a>"
      ]
    },
    {
      "cell_type": "markdown",
      "metadata": {
        "id": "vdaqf6vgTTg4"
      },
      "source": [
        "<left>\n",
        "    <img src=\"https://kpi.ua/files/images/kpi.png\" width=\"300\" alt=\"kpi logo\"  />\n",
        "</left>"
      ]
    },
    {
      "cell_type": "markdown",
      "metadata": {
        "id": "y2VgPk2mTThF"
      },
      "source": [
        "# **Курсова робота на тему \"Метод Девідона-Флетчера-Пауелла\"**\n",
        "# Казанцева Феофана, групи КМ-82"
      ]
    },
    {
      "cell_type": "code",
      "metadata": {
        "id": "HSiXJyQwnqm6"
      },
      "source": [
        "import numpy as np\n",
        "import sympy as sp\n",
        "import matplotlib.pyplot as plt\n",
        "from sympy.matrices import Matrix\n",
        "from sympy.printing import latex as L\n",
        "from IPython.display import display, Markdown, Math, Image\n",
        "def printm(expression):\n",
        "    return display(Math(expression))\n",
        "def printraw(expression):\n",
        "    return display(Markdown(expression))"
      ],
      "execution_count": null,
      "outputs": []
    },
    {
      "cell_type": "markdown",
      "metadata": {
        "id": "IrIqQm_Dnqm6"
      },
      "source": [
        "Мінімізувати функцію $f(x) = 6(x_1-n)^2 + x_1 x_2 + 2x_2^2$<br>\n",
        "Початкова функція $x^{(0)} = \\begin{pmatrix} 1.3n+5 \\\\ 1.3n+5 \\end{pmatrix}$<br>\n",
        "$S^{(1)} = \\begin{pmatrix} 1 \\\\ 0 \\end{pmatrix}$<br><br>\n",
        "$S^{(2)} = \\begin{pmatrix} 0 \\\\ 1 \\end{pmatrix}$"
      ]
    },
    {
      "cell_type": "code",
      "metadata": {
        "colab": {
          "base_uri": "https://localhost:8080/",
          "height": 39
        },
        "id": "iDu7D5wZnqm7",
        "outputId": "14276824-30ba-4f5f-c8ed-37f25564f628"
      },
      "source": [
        "n = 14\n",
        "S1 = Matrix([[1], [0]])\n",
        "S2 = Matrix([[0], [1]])\n",
        "x1, x2, lmbd = sp.symbols('x1 x2 \\lambda')\n",
        "f = 6*(x1 - n)**2 + x1*x2 + 2*x2**2\n",
        "printm(r'f(x) =' + L(f))"
      ],
      "execution_count": null,
      "outputs": [
        {
          "output_type": "display_data",
          "data": {
            "text/latex": "$$f(x) =x_{1} x_{2} + 2 x_{2}^{2} + 6 \\left(x_{1} - 14\\right)^{2}$$",
            "text/plain": [
              "<IPython.core.display.Math object>"
            ]
          },
          "metadata": {
            "tags": []
          }
        }
      ]
    },
    {
      "cell_type": "code",
      "metadata": {
        "colab": {
          "base_uri": "https://localhost:8080/",
          "height": 58
        },
        "id": "bEDWHpFpnqm8",
        "outputId": "1775d0d0-4233-45e6-c3a7-b1fcb657e319"
      },
      "source": [
        "X0 = Matrix([[1.3*n + 5], [1.3*n + 5]])\n",
        "printm(r'x^{(0)} =' + L(X0))"
      ],
      "execution_count": null,
      "outputs": [
        {
          "output_type": "display_data",
          "data": {
            "text/latex": "$$x^{(0)} =\\left[\\begin{matrix}23.2\\\\23.2\\end{matrix}\\right]$$",
            "text/plain": [
              "<IPython.core.display.Math object>"
            ]
          },
          "metadata": {
            "tags": []
          }
        }
      ]
    },
    {
      "cell_type": "markdown",
      "metadata": {
        "id": "yhCj2p3unqm8"
      },
      "source": [
        "$$ \\lambda_k = - \\frac{\\nabla^T f(\\bar{x}^{(k)}) S^{(k)}}{S^{(k) T} H(\\bar{x}^{(k)}) S^{(k)}} $$"
      ]
    },
    {
      "cell_type": "code",
      "metadata": {
        "id": "LwKpXVMnnqm8"
      },
      "source": [
        "#grad = Matrix([\n",
        "#    [sp.diff(f, x1).subs({x1: x0[0], x2: x0[1]})],\n",
        "#    [sp.diff(f, x2).subs({x1: x0[0], x2: x0[1]})]\n",
        "#])\n",
        "#S = Matrix([[0], [1]])\n",
        "#- (grad.T * S)[0] / (S.T * sp.hessian(f, [x1, x2]) * S)[0]\n",
        "#printm(r'\\nabla f(\\bar{x}) = ' + L(grad))"
      ],
      "execution_count": null,
      "outputs": []
    },
    {
      "cell_type": "markdown",
      "metadata": {
        "id": "90Z7F79Gnqm8"
      },
      "source": [
        "## Ітерація 1"
      ]
    },
    {
      "cell_type": "code",
      "metadata": {
        "colab": {
          "base_uri": "https://localhost:8080/",
          "height": 168
        },
        "id": "wKRXMoPCnqm9",
        "outputId": "3a51ea77-031a-4149-d66c-ebd3176367df"
      },
      "source": [
        "printm(r'x^{(1)} = x^{(0)} + \\lambda_0 S^{(2)}')\n",
        "printm(r'x^{(1)} = ' + L(X0) + r'+ \\lambda' + L(S2))\n",
        "printm(r'x^{(1)} = ' + L(X0 + lmbd * S2))\n",
        "x11, x12 = X0 + lmbd * S2\n",
        "printm(r'x_1^{(1)} = ' + L(x11))\n",
        "printm(r'x_2^{(1)} = ' + L(x12))"
      ],
      "execution_count": null,
      "outputs": [
        {
          "output_type": "display_data",
          "data": {
            "text/latex": "$$x^{(1)} = x^{(0)} + \\lambda_0 S^{(2)}$$",
            "text/plain": [
              "<IPython.core.display.Math object>"
            ]
          },
          "metadata": {
            "tags": []
          }
        },
        {
          "output_type": "display_data",
          "data": {
            "text/latex": "$$x^{(1)} = \\left[\\begin{matrix}23.2\\\\23.2\\end{matrix}\\right]+ \\lambda\\left[\\begin{matrix}0\\\\1\\end{matrix}\\right]$$",
            "text/plain": [
              "<IPython.core.display.Math object>"
            ]
          },
          "metadata": {
            "tags": []
          }
        },
        {
          "output_type": "display_data",
          "data": {
            "text/latex": "$$x^{(1)} = \\left[\\begin{matrix}23.2\\\\\\lambda + 23.2\\end{matrix}\\right]$$",
            "text/plain": [
              "<IPython.core.display.Math object>"
            ]
          },
          "metadata": {
            "tags": []
          }
        },
        {
          "output_type": "display_data",
          "data": {
            "text/latex": "$$x_1^{(1)} = 23.2$$",
            "text/plain": [
              "<IPython.core.display.Math object>"
            ]
          },
          "metadata": {
            "tags": []
          }
        },
        {
          "output_type": "display_data",
          "data": {
            "text/latex": "$$x_2^{(1)} = \\lambda + 23.2$$",
            "text/plain": [
              "<IPython.core.display.Math object>"
            ]
          },
          "metadata": {
            "tags": []
          }
        }
      ]
    },
    {
      "cell_type": "markdown",
      "metadata": {
        "id": "MLmO8IkEnqm9"
      },
      "source": [
        "### Алгоритм Свена та метод дихотомії"
      ]
    },
    {
      "cell_type": "code",
      "metadata": {
        "id": "_lXP2G2Vnqm9"
      },
      "source": [
        "def f_value(x1_value, x2_value):\n",
        "    return f.subs({x1: x1_value, x2: x2_value})\n",
        "\n",
        "def sven(x0, S, barwidth=0.3, dsk=False):\n",
        "    h_sven = round(0.1 * abs(x0.norm() / S.norm()), 4)\n",
        "    lmbd0 = 0\n",
        "    fx0 = f_value(x11.subs(lmbd, lmbd0), x12.subs(lmbd, lmbd0))\n",
        "    fx_positive_direction = f_value(x11.subs(lmbd, lmbd0 + h_sven), x12.subs(lmbd, lmbd0 + h_sven))\n",
        "    fx_negative_direction = f_value(x11.subs(lmbd, lmbd0 - h_sven), x12.subs(lmbd, lmbd0 - h_sven))\n",
        "    while fx0 < fx_positive_direction and fx0 < fx_negative_direction:\n",
        "        h_sven = h_sven / 5\n",
        "        fx_positive_direction = f_value(x11.subs(lmbd, lmbd0 + h_sven), x12.subs(lmbd, lmbd0 + h_sven))\n",
        "        fx_negative_direction = f_value(x11.subs(lmbd, lmbd0 - h_sven), x12.subs(lmbd, lmbd0 - h_sven))\n",
        "    printm(r'\\Delta \\lambda = ' + str(h_sven))\n",
        "    direction = 1\n",
        "    dir_str = '+'\n",
        "    if fx_positive_direction > fx_negative_direction:\n",
        "        direction = -1\n",
        "        dir_str = '-'\n",
        "\n",
        "    lmbdarray_sven = []\n",
        "    fxarray_sven = []\n",
        "    lmbd_sven = lmbd0\n",
        "    fx_sven = f_value(x11.subs(lmbd, lmbd_sven), x12.subs(lmbd, lmbd_sven))\n",
        "    k_sven = 0\n",
        "\n",
        "    lmbdarray_sven.append(round(float(lmbd_sven), 4))\n",
        "    fxarray_sven.append(round(float(fx_sven), 4))\n",
        "    \n",
        "    indx = 1\n",
        "    while True:\n",
        "        lmbd_sven = lmbd_sven + direction*h_sven*(2**k_sven)\n",
        "        fx_sven = f_value(x11.subs(lmbd, lmbd_sven), x12.subs(lmbd, lmbd_sven))\n",
        "        x_expr = f'x_{indx} = x_{indx-1}' + dir_str + str(2**k_sven) + r'\\Delta =' + str(lmbd_sven)\n",
        "        fx_expr = f'f(x_{indx}) = ' + str(round(fx_sven, 4))\n",
        "        printm(x_expr + r'\\quad ' + fx_expr)\n",
        "        lmbdarray_sven.append(round(float(lmbd_sven), 4))\n",
        "        fxarray_sven.append(round(float(fx_sven), 4))\n",
        "        if fxarray_sven[-1] > fxarray_sven[-2]:\n",
        "            # значення функції почало рости, тому припиняємо пошук\n",
        "            break\n",
        "        indx += 1\n",
        "        k_sven += 1\n",
        "\n",
        "    lmbdbackward_sven = round((lmbdarray_sven[-1] + lmbdarray_sven[-2]) / 2, 4)\n",
        "    fxbackward_sven = round(f_value(x11.subs(lmbd, lmbdbackward_sven), x12.subs(lmbd, lmbdbackward_sven)), 4)\n",
        "    xback_expr = f'x_{indx+1} = ' + r'\\frac{' + f'x_{indx-1} + x_{indx}' + r'}{2} = ' + str(lmbdbackward_sven)\n",
        "    fxback_expr = f'f(x_{indx+1}) = {fxbackward_sven}'\n",
        "    printm(xback_expr + '\\quad ' + fxback_expr)\n",
        "    interval = [lmbdarray_sven[-3], lmbdbackward_sven]\n",
        "\n",
        "    printm(r'Інтервал \\ невизначенності \\ за \\ Свеном: ' + str(interval))\n",
        "    plt.bar([lmbdarray_sven[0]], [fxarray_sven[0]], width=barwidth, color='r')\n",
        "    ax = plt.gca()\n",
        "    ax.bar([lmbdbackward_sven], [fxbackward_sven], width=barwidth, color='g')\n",
        "    ax.bar(lmbdarray_sven[:0:-1], fxarray_sven[:0:-1], width=barwidth, color='b')\n",
        "\n",
        "    plt.gcf().set_size_inches((14, 7))\n",
        "    _ = plt.xticks(lmbdarray_sven[:-1] + [lmbdbackward_sven] + [lmbdarray_sven[-1]])\n",
        "    \n",
        "    if dsk:\n",
        "        interval.insert(1, lmbdarray_sven[-2])\n",
        "        return interval, [fxbackward_sven, fxarray_sven[-2], fxarray_sven[-3]]\n",
        "    return interval"
      ],
      "execution_count": null,
      "outputs": []
    },
    {
      "cell_type": "code",
      "metadata": {
        "id": "OPwsThd2nqm-"
      },
      "source": [
        "def check_dichotomy(intervals, error):\n",
        "    L_dich = intervals[-1] - intervals[0]\n",
        "    if abs(L_dich) < error:\n",
        "        printm(r'|L| = ' + str(abs(L_dich)) + '< 0.01')\n",
        "        return True\n",
        "    else:\n",
        "        return False\n",
        "\n",
        "def dichotomy(interval, eps):\n",
        "    a, b = interval\n",
        "    xm_dich = (a + b) / 2\n",
        "    x1_dich = (a + xm_dich) / 2\n",
        "    x2_dich = (xm_dich + b) / 2\n",
        "    intervals_dich = [a, x1_dich, xm_dich, x2_dich, b]\n",
        "    while True:\n",
        "        a, x1_dich, xm_dich, x2_dich, b = intervals_dich \n",
        "        fxm_dich = f_value(x11.subs(lmbd, xm_dich), x12.subs(lmbd, xm_dich))\n",
        "        fx1_dich = f_value(x11.subs(lmbd, x1_dich), x12.subs(lmbd, x1_dich))\n",
        "        fx2_dich = f_value(x11.subs(lmbd, x2_dich), x12.subs(lmbd, x2_dich))\n",
        "        printm(r'x_1 ='+L(round(x1_dich, 4))+r'\\quad '+r'x_m ='+L(round(xm_dich, 4))+r'\\quad ' r'x_2 = '+L(round(x2_dich, 4)))\n",
        "        if fx1_dich < fxm_dich:\n",
        "            intervals_dich = intervals_dich[:-2]\n",
        "        else:\n",
        "            if fx2_dich < fxm_dich:\n",
        "                intervals_dich = intervals_dich[2:]\n",
        "            else:\n",
        "                intervals_dich = intervals_dich[1:-1]\n",
        "        if check_dichotomy(intervals_dich, eps):\n",
        "            break\n",
        "        else:\n",
        "            a, xm, b = intervals_dich\n",
        "            xm_dich = (a + b) / 2\n",
        "            x1_dich = (a + xm_dich) / 2\n",
        "            x2_dich = (xm_dich + b) / 2\n",
        "            intervals_dich = [a, x1_dich, xm_dich, x2_dich, b]\n",
        "    return intervals_dich"
      ],
      "execution_count": null,
      "outputs": []
    },
    {
      "cell_type": "code",
      "metadata": {
        "colab": {
          "base_uri": "https://localhost:8080/",
          "height": 578
        },
        "id": "ga9YiEq3nqm-",
        "outputId": "3f75b054-7ac1-4fec-83ac-5c51988ef36c"
      },
      "source": [
        "interval = sven(x0=X0, S=S2)"
      ],
      "execution_count": null,
      "outputs": [
        {
          "output_type": "display_data",
          "data": {
            "text/latex": "$$\\Delta \\lambda = 3.2810$$",
            "text/plain": [
              "<IPython.core.display.Math object>"
            ]
          },
          "metadata": {
            "tags": []
          }
        },
        {
          "output_type": "display_data",
          "data": {
            "text/latex": "$$x_1 = x_0-1\\Delta =-3.2810\\quad f(x_1) = 1763.4941$$",
            "text/plain": [
              "<IPython.core.display.Math object>"
            ]
          },
          "metadata": {
            "tags": []
          }
        },
        {
          "output_type": "display_data",
          "data": {
            "text/latex": "$$x_2 = x_1-2\\Delta =-9.8430\\quad f(x_2) = 1174.5423$$",
            "text/plain": [
              "<IPython.core.display.Math object>"
            ]
          },
          "metadata": {
            "tags": []
          }
        },
        {
          "output_type": "display_data",
          "data": {
            "text/latex": "$$x_3 = x_2-4\\Delta =-22.967\\quad f(x_3) = 513.3547$$",
            "text/plain": [
              "<IPython.core.display.Math object>"
            ]
          },
          "metadata": {
            "tags": []
          }
        },
        {
          "output_type": "display_data",
          "data": {
            "text/latex": "$$x_4 = x_3-8\\Delta =-49.215\\quad f(x_4) = 1257.8497$$",
            "text/plain": [
              "<IPython.core.display.Math object>"
            ]
          },
          "metadata": {
            "tags": []
          }
        },
        {
          "output_type": "display_data",
          "data": {
            "text/latex": "$$x_5 = \\frac{x_3 + x_4}{2} = -36.091\\quad f(x_5) = 541.1246$$",
            "text/plain": [
              "<IPython.core.display.Math object>"
            ]
          },
          "metadata": {
            "tags": []
          }
        },
        {
          "output_type": "display_data",
          "data": {
            "text/latex": "$$Інтервал \\ невизначенності \\ за \\ Свеном: [-9.843, -36.091]$$",
            "text/plain": [
              "<IPython.core.display.Math object>"
            ]
          },
          "metadata": {
            "tags": []
          }
        },
        {
          "output_type": "display_data",
          "data": {
            "image/png": "[encoded data removed]",
            "text/plain": [
              "<Figure size 1008x504 with 1 Axes>"
            ]
          },
          "metadata": {
            "tags": [],
            "needs_background": "light"
          }
        }
      ]
    },
    {
      "cell_type": "code",
      "metadata": {
        "colab": {
          "base_uri": "https://localhost:8080/",
          "height": 360
        },
        "id": "SxVFxSlKnqm_",
        "outputId": "b46889e3-6aa2-43d3-9fc1-c4f94c5c7c20"
      },
      "source": [
        "dich_1 = dichotomy(interval=interval, eps=0.01)\n",
        "lmbd_1 = dich_1[1]\n",
        "printm('\\lambda_0 = ' + str(lmbd_1))\n",
        "X1 = Matrix([\n",
        "    [round(x11.subs(lmbd, lmbd_1), 4)],\n",
        "    [round(x12.subs(lmbd, lmbd_1), 4)]\n",
        "])\n",
        "printm('x^{(1)} = ' + L(X1))"
      ],
      "execution_count": null,
      "outputs": [
        {
          "output_type": "display_data",
          "data": {
            "text/latex": "$$x_1 =-16.405\\quad x_m =-22.967\\quad x_2 = -29.529$$",
            "text/plain": [
              "<IPython.core.display.Math object>"
            ]
          },
          "metadata": {
            "tags": []
          }
        },
        {
          "output_type": "display_data",
          "data": {
            "text/latex": "$$x_1 =-26.248\\quad x_m =-29.529\\quad x_2 = -32.81$$",
            "text/plain": [
              "<IPython.core.display.Math object>"
            ]
          },
          "metadata": {
            "tags": []
          }
        },
        {
          "output_type": "display_data",
          "data": {
            "text/latex": "$$x_1 =-27.8885\\quad x_m =-29.529\\quad x_2 = -31.1695$$",
            "text/plain": [
              "<IPython.core.display.Math object>"
            ]
          },
          "metadata": {
            "tags": []
          }
        },
        {
          "output_type": "display_data",
          "data": {
            "text/latex": "$$x_1 =-28.7088\\quad x_m =-29.529\\quad x_2 = -30.3492$$",
            "text/plain": [
              "<IPython.core.display.Math object>"
            ]
          },
          "metadata": {
            "tags": []
          }
        },
        {
          "output_type": "display_data",
          "data": {
            "text/latex": "$$x_1 =-28.2986\\quad x_m =-28.7088\\quad x_2 = -29.1189$$",
            "text/plain": [
              "<IPython.core.display.Math object>"
            ]
          },
          "metadata": {
            "tags": []
          }
        },
        {
          "output_type": "display_data",
          "data": {
            "text/latex": "$$x_1 =-28.9138\\quad x_m =-29.1189\\quad x_2 = -29.3239$$",
            "text/plain": [
              "<IPython.core.display.Math object>"
            ]
          },
          "metadata": {
            "tags": []
          }
        },
        {
          "output_type": "display_data",
          "data": {
            "text/latex": "$$x_1 =-28.8113\\quad x_m =-28.9138\\quad x_2 = -29.0163$$",
            "text/plain": [
              "<IPython.core.display.Math object>"
            ]
          },
          "metadata": {
            "tags": []
          }
        },
        {
          "output_type": "display_data",
          "data": {
            "text/latex": "$$x_1 =-28.9651\\quad x_m =-29.0163\\quad x_2 = -29.0676$$",
            "text/plain": [
              "<IPython.core.display.Math object>"
            ]
          },
          "metadata": {
            "tags": []
          }
        },
        {
          "output_type": "display_data",
          "data": {
            "text/latex": "$$x_1 =-28.9907\\quad x_m =-29.0163\\quad x_2 = -29.042$$",
            "text/plain": [
              "<IPython.core.display.Math object>"
            ]
          },
          "metadata": {
            "tags": []
          }
        },
        {
          "output_type": "display_data",
          "data": {
            "text/latex": "$$x_1 =-28.9779\\quad x_m =-28.9907\\quad x_2 = -29.0035$$",
            "text/plain": [
              "<IPython.core.display.Math object>"
            ]
          },
          "metadata": {
            "tags": []
          }
        },
        {
          "output_type": "display_data",
          "data": {
            "text/latex": "$$x_1 =-28.9971\\quad x_m =-29.0035\\quad x_2 = -29.0099$$",
            "text/plain": [
              "<IPython.core.display.Math object>"
            ]
          },
          "metadata": {
            "tags": []
          }
        },
        {
          "output_type": "display_data",
          "data": {
            "text/latex": "$$x_1 =-28.9939\\quad x_m =-28.9971\\quad x_2 = -29.0003$$",
            "text/plain": [
              "<IPython.core.display.Math object>"
            ]
          },
          "metadata": {
            "tags": []
          }
        },
        {
          "output_type": "display_data",
          "data": {
            "text/latex": "$$|L| = 0.006408203125001677< 0.01$$",
            "text/plain": [
              "<IPython.core.display.Math object>"
            ]
          },
          "metadata": {
            "tags": []
          }
        },
        {
          "output_type": "display_data",
          "data": {
            "text/latex": "$$\\lambda_0 = -29.000323242187505$$",
            "text/plain": [
              "<IPython.core.display.Math object>"
            ]
          },
          "metadata": {
            "tags": []
          }
        },
        {
          "output_type": "display_data",
          "data": {
            "text/latex": "$$x^{(1)} = \\left[\\begin{matrix}23.2\\\\-5.8003\\end{matrix}\\right]$$",
            "text/plain": [
              "<IPython.core.display.Math object>"
            ]
          },
          "metadata": {
            "tags": []
          }
        }
      ]
    },
    {
      "cell_type": "markdown",
      "metadata": {
        "id": "kvBxJ7DUnqm_"
      },
      "source": [
        "## Метод золотого перетину"
      ]
    },
    {
      "cell_type": "code",
      "metadata": {
        "id": "S7Zpex0fnqm_"
      },
      "source": [
        "def check_gold(L_gold, error):\n",
        "    if abs(L_gold) <= error:\n",
        "        printm(r'|L| = ' + str(abs(L_gold)) + '< 0.01')\n",
        "        return True\n",
        "    else:\n",
        "        return False\n",
        "\n",
        "def golden_section(interval, eps):\n",
        "    a, b = interval\n",
        "    L_gold = b - a\n",
        "    x1_gold = a + 0.382*L_gold\n",
        "    x2_gold = a + 0.618*L_gold\n",
        "    fx1_gold = f_value(x11.subs(lmbd, x1_gold), x12.subs(lmbd, x1_gold))\n",
        "    fx2_gold = f_value(x11.subs(lmbd, x2_gold), x12.subs(lmbd, x2_gold))\n",
        "    while True:\n",
        "        printm(r'x_1 ='+L(round(x1_gold, 4))+r'\\quad '+r'x_2 ='+L(round(x2_gold, 4)))\n",
        "        if fx1_gold <= fx2_gold:\n",
        "            b = x2_gold\n",
        "            L_gold = b - a\n",
        "            x2_gold = x1_gold\n",
        "            x1_gold = a + 0.382*L_gold\n",
        "        else:\n",
        "            a = x1_gold\n",
        "            L_gold = b - a\n",
        "            x1_gold = x2_gold\n",
        "            x2_gold = a + 0.618*L_gold\n",
        "\n",
        "        if check_gold(L_gold, eps):\n",
        "            if fx1_gold < fx2_gold:\n",
        "                answ = x1_gold\n",
        "            else:\n",
        "                answ = x2_gold\n",
        "            break\n",
        "        else:\n",
        "            fx1_gold = f_value(x11.subs(lmbd, x1_gold), x12.subs(lmbd, x1_gold))\n",
        "            fx2_gold = f_value(x11.subs(lmbd, x2_gold), x12.subs(lmbd, x2_gold))\n",
        "    return answ"
      ],
      "execution_count": null,
      "outputs": []
    },
    {
      "cell_type": "code",
      "metadata": {
        "colab": {
          "base_uri": "https://localhost:8080/",
          "height": 168
        },
        "id": "3iMdex1anqm_",
        "outputId": "a47d0f88-53f5-47cb-9e02-448fd2eb8e74"
      },
      "source": [
        "printm(r'x^{(2)} = x^{(1)} + \\lambda_1 S^{(1)}')\n",
        "printm(r'x^{(2)} = ' + L(X1) + r'+ \\lambda_1' + L(S1))\n",
        "printm(r'x^{(2)} = ' + L(X1 + lmbd * S1))\n",
        "x11, x12 = X1 + lmbd * S1\n",
        "printm(r'x_1^{(2)} = ' + L(x11))\n",
        "printm(r'x_2^{(2)} = ' + L(x12))"
      ],
      "execution_count": null,
      "outputs": [
        {
          "output_type": "display_data",
          "data": {
            "text/latex": "$$x^{(2)} = x^{(1)} + \\lambda_1 S^{(1)}$$",
            "text/plain": [
              "<IPython.core.display.Math object>"
            ]
          },
          "metadata": {
            "tags": []
          }
        },
        {
          "output_type": "display_data",
          "data": {
            "text/latex": "$$x^{(2)} = \\left[\\begin{matrix}23.2\\\\-5.8003\\end{matrix}\\right]+ \\lambda_1\\left[\\begin{matrix}1\\\\0\\end{matrix}\\right]$$",
            "text/plain": [
              "<IPython.core.display.Math object>"
            ]
          },
          "metadata": {
            "tags": []
          }
        },
        {
          "output_type": "display_data",
          "data": {
            "text/latex": "$$x^{(2)} = \\left[\\begin{matrix}\\lambda + 23.2\\\\-5.8003\\end{matrix}\\right]$$",
            "text/plain": [
              "<IPython.core.display.Math object>"
            ]
          },
          "metadata": {
            "tags": []
          }
        },
        {
          "output_type": "display_data",
          "data": {
            "text/latex": "$$x_1^{(2)} = \\lambda + 23.2$$",
            "text/plain": [
              "<IPython.core.display.Math object>"
            ]
          },
          "metadata": {
            "tags": []
          }
        },
        {
          "output_type": "display_data",
          "data": {
            "text/latex": "$$x_2^{(2)} = -5.8003$$",
            "text/plain": [
              "<IPython.core.display.Math object>"
            ]
          },
          "metadata": {
            "tags": []
          }
        }
      ]
    },
    {
      "cell_type": "code",
      "metadata": {
        "colab": {
          "base_uri": "https://localhost:8080/",
          "height": 556
        },
        "id": "2hiszofOnqnA",
        "outputId": "d6b04992-9a53-429c-bb53-3ce03387400c"
      },
      "source": [
        "interval_2 = sven(X1, S1)"
      ],
      "execution_count": null,
      "outputs": [
        {
          "output_type": "display_data",
          "data": {
            "text/latex": "$$\\Delta \\lambda = 2.3914$$",
            "text/plain": [
              "<IPython.core.display.Math object>"
            ]
          },
          "metadata": {
            "tags": []
          }
        },
        {
          "output_type": "display_data",
          "data": {
            "text/latex": "$$x_1 = x_0-1\\Delta =-2.3914\\quad f(x_1) = 224.733$$",
            "text/plain": [
              "<IPython.core.display.Math object>"
            ]
          },
          "metadata": {
            "tags": []
          }
        },
        {
          "output_type": "display_data",
          "data": {
            "text/latex": "$$x_2 = x_1-2\\Delta =-7.1742\\quad f(x_2) = -1.0442$$",
            "text/plain": [
              "<IPython.core.display.Math object>"
            ]
          },
          "metadata": {
            "tags": []
          }
        },
        {
          "output_type": "display_data",
          "data": {
            "text/latex": "$$x_3 = x_2-4\\Delta =-16.740\\quad f(x_3) = 370.908$$",
            "text/plain": [
              "<IPython.core.display.Math object>"
            ]
          },
          "metadata": {
            "tags": []
          }
        },
        {
          "output_type": "display_data",
          "data": {
            "text/latex": "$$x_4 = \\frac{x_2 + x_3}{2} = -11.957\\quad f(x_4) = 47.6805$$",
            "text/plain": [
              "<IPython.core.display.Math object>"
            ]
          },
          "metadata": {
            "tags": []
          }
        },
        {
          "output_type": "display_data",
          "data": {
            "text/latex": "$$Інтервал \\ невизначенності \\ за \\ Свеном: [-2.3914, -11.957]$$",
            "text/plain": [
              "<IPython.core.display.Math object>"
            ]
          },
          "metadata": {
            "tags": []
          }
        },
        {
          "output_type": "display_data",
          "data": {
            "image/png": "[encoded data removed]",
            "text/plain": [
              "<Figure size 1008x504 with 1 Axes>"
            ]
          },
          "metadata": {
            "tags": [],
            "needs_background": "light"
          }
        }
      ]
    },
    {
      "cell_type": "code",
      "metadata": {
        "colab": {
          "base_uri": "https://localhost:8080/",
          "height": 425
        },
        "id": "ODveuN47nqnA",
        "outputId": "c466c8a1-4299-4a63-c7dd-71f092c658ab"
      },
      "source": [
        "lmbd_2 = round(golden_section(interval_2, 0.01), 4)\n",
        "printm('\\lambda_1 = ' + str(lmbd_2))\n",
        "X2 = Matrix([\n",
        "    [round(x11.subs(lmbd, lmbd_2), 4)],\n",
        "    [round(x12.subs(lmbd, lmbd_2), 4)]\n",
        "])\n",
        "printm('x^{(2)} = ' + L(X2))"
      ],
      "execution_count": null,
      "outputs": [
        {
          "output_type": "display_data",
          "data": {
            "text/latex": "$$x_1 =-6.0455\\quad x_2 =-8.3029$$",
            "text/plain": [
              "<IPython.core.display.Math object>"
            ]
          },
          "metadata": {
            "tags": []
          }
        },
        {
          "output_type": "display_data",
          "data": {
            "text/latex": "$$x_1 =-8.3029\\quad x_2 =-9.6988$$",
            "text/plain": [
              "<IPython.core.display.Math object>"
            ]
          },
          "metadata": {
            "tags": []
          }
        },
        {
          "output_type": "display_data",
          "data": {
            "text/latex": "$$x_1 =-7.441\\quad x_2 =-8.3029$$",
            "text/plain": [
              "<IPython.core.display.Math object>"
            ]
          },
          "metadata": {
            "tags": []
          }
        },
        {
          "output_type": "display_data",
          "data": {
            "text/latex": "$$x_1 =-8.3029\\quad x_2 =-8.8363$$",
            "text/plain": [
              "<IPython.core.display.Math object>"
            ]
          },
          "metadata": {
            "tags": []
          }
        },
        {
          "output_type": "display_data",
          "data": {
            "text/latex": "$$x_1 =-8.8363\\quad x_2 =-9.1656$$",
            "text/plain": [
              "<IPython.core.display.Math object>"
            ]
          },
          "metadata": {
            "tags": []
          }
        },
        {
          "output_type": "display_data",
          "data": {
            "text/latex": "$$x_1 =-8.6325\\quad x_2 =-8.8363$$",
            "text/plain": [
              "<IPython.core.display.Math object>"
            ]
          },
          "metadata": {
            "tags": []
          }
        },
        {
          "output_type": "display_data",
          "data": {
            "text/latex": "$$x_1 =-8.5067\\quad x_2 =-8.6325$$",
            "text/plain": [
              "<IPython.core.display.Math object>"
            ]
          },
          "metadata": {
            "tags": []
          }
        },
        {
          "output_type": "display_data",
          "data": {
            "text/latex": "$$x_1 =-8.6325\\quad x_2 =-8.7104$$",
            "text/plain": [
              "<IPython.core.display.Math object>"
            ]
          },
          "metadata": {
            "tags": []
          }
        },
        {
          "output_type": "display_data",
          "data": {
            "text/latex": "$$x_1 =-8.7104\\quad x_2 =-8.7585$$",
            "text/plain": [
              "<IPython.core.display.Math object>"
            ]
          },
          "metadata": {
            "tags": []
          }
        },
        {
          "output_type": "display_data",
          "data": {
            "text/latex": "$$x_1 =-8.6806\\quad x_2 =-8.7104$$",
            "text/plain": [
              "<IPython.core.display.Math object>"
            ]
          },
          "metadata": {
            "tags": []
          }
        },
        {
          "output_type": "display_data",
          "data": {
            "text/latex": "$$x_1 =-8.7104\\quad x_2 =-8.7287$$",
            "text/plain": [
              "<IPython.core.display.Math object>"
            ]
          },
          "metadata": {
            "tags": []
          }
        },
        {
          "output_type": "display_data",
          "data": {
            "text/latex": "$$x_1 =-8.699\\quad x_2 =-8.7104$$",
            "text/plain": [
              "<IPython.core.display.Math object>"
            ]
          },
          "metadata": {
            "tags": []
          }
        },
        {
          "output_type": "display_data",
          "data": {
            "text/latex": "$$x_1 =-8.7104\\quad x_2 =-8.7174$$",
            "text/plain": [
              "<IPython.core.display.Math object>"
            ]
          },
          "metadata": {
            "tags": []
          }
        },
        {
          "output_type": "display_data",
          "data": {
            "text/latex": "$$x_1 =-8.7174\\quad x_2 =-8.7217$$",
            "text/plain": [
              "<IPython.core.display.Math object>"
            ]
          },
          "metadata": {
            "tags": []
          }
        },
        {
          "output_type": "display_data",
          "data": {
            "text/latex": "$$x_1 =-8.7147\\quad x_2 =-8.7174$$",
            "text/plain": [
              "<IPython.core.display.Math object>"
            ]
          },
          "metadata": {
            "tags": []
          }
        },
        {
          "output_type": "display_data",
          "data": {
            "text/latex": "$$|L| = 0.006990446682852536< 0.01$$",
            "text/plain": [
              "<IPython.core.display.Math object>"
            ]
          },
          "metadata": {
            "tags": []
          }
        },
        {
          "output_type": "display_data",
          "data": {
            "text/latex": "$$\\lambda_1 = -8.719$$",
            "text/plain": [
              "<IPython.core.display.Math object>"
            ]
          },
          "metadata": {
            "tags": []
          }
        },
        {
          "output_type": "display_data",
          "data": {
            "text/latex": "$$x^{(2)} = \\left[\\begin{matrix}14.481\\\\-5.8003\\end{matrix}\\right]$$",
            "text/plain": [
              "<IPython.core.display.Math object>"
            ]
          },
          "metadata": {
            "tags": []
          }
        }
      ]
    },
    {
      "cell_type": "markdown",
      "metadata": {
        "id": "_ysD4EXFnqnA"
      },
      "source": [
        "## Метод ДСК-Пауелла"
      ]
    },
    {
      "cell_type": "code",
      "metadata": {
        "id": "mrFUAokYnqnA"
      },
      "source": [
        "def dsk_paul(x_dsk, fx_dsk, eps): \n",
        "    x1_dsk, x2_dsk, x3_dsk = x_dsk\n",
        "    fx1_dsk, fx2_dsk, fx3_dsk = fx_dsk\n",
        "    deltax_dsk = round(abs(x1_dsk - x2_dsk), 4)\n",
        "\n",
        "    kvx = round(x2_dsk + (deltax_dsk * (fx1_dsk - fx3_dsk)) / (2*(fx1_dsk - 2*fx2_dsk + fx3_dsk)), 4)\n",
        "    fkvx = f_value(x11.subs(lmbd, kvx), x12.subs(lmbd, kvx))\n",
        "    while True:\n",
        "        if abs(fx2_dsk - fkvx) <= eps and abs(x2_dsk - kvx) <= eps:\n",
        "            # виконується критерій закінчення\n",
        "            break\n",
        "        else:\n",
        "            if fkvx < fx2_dsk:\n",
        "                if kvx > x2_dsk:\n",
        "                    x1_dsk, x2_dsk = x2_dsk, kvx\n",
        "                    fx1_dsk, fx2_dsk = fx2_dsk, fkvx\n",
        "                else:\n",
        "                    x2_dsk, x3_dsk = kvx, x2_dsk\n",
        "                    fx2_dsk, fx3_dsk = fkvx, fx2_dsk\n",
        "            else:\n",
        "                if kvx > x2_dsk:\n",
        "                    x3_dsk = kvx\n",
        "                    fx3_dsk = fkvx\n",
        "                else:\n",
        "                    x1_dsk = kvx\n",
        "                    fx1_dsk = fkvx\n",
        "            a1 = (fx2_dsk - fx1_dsk) / (x2_dsk - x1_dsk)\n",
        "            a2 = ((fx3_dsk-fx1_dsk)/(x3_dsk-x1_dsk) - (fx2_dsk-fx1_dsk)/(x2_dsk-x1_dsk)) / (x3_dsk - x2_dsk)\n",
        "            kvx = (x1_dsk + x2_dsk) / 2 - (a1/(2*a2))\n",
        "            fkvx = f_value(x11.subs(lmbd, kvx), x12.subs(lmbd, kvx))\n",
        "    return kvx"
      ],
      "execution_count": null,
      "outputs": []
    },
    {
      "cell_type": "code",
      "metadata": {
        "colab": {
          "base_uri": "https://localhost:8080/",
          "height": 168
        },
        "id": "__HsnyMcnqnB",
        "outputId": "2d265ea6-bfbc-4077-9e20-694f85265bfc"
      },
      "source": [
        "printm(r'x^{(3)} = x^{(2)} + \\lambda_2 S^{(2)}')\n",
        "printm(r'x^{(3)} = ' + L(X2) + r'+ \\lambda_2' + L(S2))\n",
        "printm(r'x^{(3)} = ' + L(X2 + lmbd * S2))\n",
        "x11, x12 = X2 + lmbd * S2\n",
        "printm(r'x_1^{(3)} = ' + L(x11))\n",
        "printm(r'x_2^{(3)} = ' + L(x12))"
      ],
      "execution_count": null,
      "outputs": [
        {
          "output_type": "display_data",
          "data": {
            "text/latex": "$$x^{(3)} = x^{(2)} + \\lambda_2 S^{(2)}$$",
            "text/plain": [
              "<IPython.core.display.Math object>"
            ]
          },
          "metadata": {
            "tags": []
          }
        },
        {
          "output_type": "display_data",
          "data": {
            "text/latex": "$$x^{(3)} = \\left[\\begin{matrix}14.481\\\\-5.8003\\end{matrix}\\right]+ \\lambda_2\\left[\\begin{matrix}0\\\\1\\end{matrix}\\right]$$",
            "text/plain": [
              "<IPython.core.display.Math object>"
            ]
          },
          "metadata": {
            "tags": []
          }
        },
        {
          "output_type": "display_data",
          "data": {
            "text/latex": "$$x^{(3)} = \\left[\\begin{matrix}14.481\\\\\\lambda - 5.8003\\end{matrix}\\right]$$",
            "text/plain": [
              "<IPython.core.display.Math object>"
            ]
          },
          "metadata": {
            "tags": []
          }
        },
        {
          "output_type": "display_data",
          "data": {
            "text/latex": "$$x_1^{(3)} = 14.481$$",
            "text/plain": [
              "<IPython.core.display.Math object>"
            ]
          },
          "metadata": {
            "tags": []
          }
        },
        {
          "output_type": "display_data",
          "data": {
            "text/latex": "$$x_2^{(3)} = \\lambda - 5.8003$$",
            "text/plain": [
              "<IPython.core.display.Math object>"
            ]
          },
          "metadata": {
            "tags": []
          }
        }
      ]
    },
    {
      "cell_type": "code",
      "metadata": {
        "colab": {
          "base_uri": "https://localhost:8080/",
          "height": 538
        },
        "id": "l0B2xgVSnqnB",
        "outputId": "99f39069-8762-4631-9315-38294eaa0710"
      },
      "source": [
        "x_dsk, fx_dsk = sven(X2, S2, dsk=True)"
      ],
      "execution_count": null,
      "outputs": [
        {
          "output_type": "display_data",
          "data": {
            "text/latex": "$$\\Delta \\lambda = 1.5599$$",
            "text/plain": [
              "<IPython.core.display.Math object>"
            ]
          },
          "metadata": {
            "tags": []
          }
        },
        {
          "output_type": "display_data",
          "data": {
            "text/latex": "$$x_1 = x_0+1\\Delta =1.5599\\quad f(x_1) = -24.0551$$",
            "text/plain": [
              "<IPython.core.display.Math object>"
            ]
          },
          "metadata": {
            "tags": []
          }
        },
        {
          "output_type": "display_data",
          "data": {
            "text/latex": "$$x_2 = x_1+2\\Delta =4.6797\\quad f(x_2) = -12.3277$$",
            "text/plain": [
              "<IPython.core.display.Math object>"
            ]
          },
          "metadata": {
            "tags": []
          }
        },
        {
          "output_type": "display_data",
          "data": {
            "text/latex": "$$x_3 = \\frac{x_1 + x_2}{2} = 3.1198\\quad f(x_3) = -23.0580$$",
            "text/plain": [
              "<IPython.core.display.Math object>"
            ]
          },
          "metadata": {
            "tags": []
          }
        },
        {
          "output_type": "display_data",
          "data": {
            "text/latex": "$$Інтервал \\ невизначенності \\ за \\ Свеном: [0.0, 3.1198]$$",
            "text/plain": [
              "<IPython.core.display.Math object>"
            ]
          },
          "metadata": {
            "tags": []
          }
        },
        {
          "output_type": "display_data",
          "data": {
            "image/png": "[encoded data removed]",
            "text/plain": [
              "<Figure size 1008x504 with 1 Axes>"
            ]
          },
          "metadata": {
            "tags": [],
            "needs_background": "light"
          }
        }
      ]
    },
    {
      "cell_type": "code",
      "metadata": {
        "colab": {
          "base_uri": "https://localhost:8080/",
          "height": 79
        },
        "id": "sCAECRdWnqnB",
        "outputId": "17ce8e50-34b4-4826-9f08-2c8c0a992347"
      },
      "source": [
        "lmbd_3 = round(dsk_paul(x_dsk, fx_dsk, 0.01), 4)\n",
        "printm('\\lambda_2 = ' + str(lmbd_3))\n",
        "X3 = Matrix([\n",
        "    [round(x11.subs(lmbd, lmbd_3), 4)],\n",
        "    [round(x12.subs(lmbd, lmbd_3), 4)]\n",
        "])\n",
        "printm('x^{(3)} = ' + L(X3))"
      ],
      "execution_count": null,
      "outputs": [
        {
          "output_type": "display_data",
          "data": {
            "text/latex": "$$\\lambda_2 = 2.1223$$",
            "text/plain": [
              "<IPython.core.display.Math object>"
            ]
          },
          "metadata": {
            "tags": []
          }
        },
        {
          "output_type": "display_data",
          "data": {
            "text/latex": "$$x^{(3)} = \\left[\\begin{matrix}14.481\\\\-3.678\\end{matrix}\\right]$$",
            "text/plain": [
              "<IPython.core.display.Math object>"
            ]
          },
          "metadata": {
            "tags": []
          }
        }
      ]
    },
    {
      "cell_type": "code",
      "metadata": {
        "colab": {
          "base_uri": "https://localhost:8080/",
          "height": 168
        },
        "id": "DKlUY6DYnqnB",
        "outputId": "3f8d60b7-7935-4dd4-9a67-cc1ae73cb748"
      },
      "source": [
        "printm(r'x^{(4)} = x^{(3)} + \\lambda_3 (x^{(3)} - x^{(1)})')\n",
        "printm(r'x^{(4)} = ' + L(X3) + r'+ \\lambda_3' + L(X3 - X1))\n",
        "printm(r'x^{(4)} = ' + L(X3 + lmbd * (X3 - X1)))\n",
        "x11, x12 = X3 + lmbd * (X3 - X1)\n",
        "printm(r'x_1^{(4)} = ' + L(x11))\n",
        "printm(r'x_2^{(4)} = ' + L(x12))"
      ],
      "execution_count": null,
      "outputs": [
        {
          "output_type": "display_data",
          "data": {
            "text/latex": "$$x^{(4)} = x^{(3)} + \\lambda_3 (x^{(3)} - x^{(1)})$$",
            "text/plain": [
              "<IPython.core.display.Math object>"
            ]
          },
          "metadata": {
            "tags": []
          }
        },
        {
          "output_type": "display_data",
          "data": {
            "text/latex": "$$x^{(4)} = \\left[\\begin{matrix}14.481\\\\-3.678\\end{matrix}\\right]+ \\lambda_3\\left[\\begin{matrix}-8.719\\\\2.1223\\end{matrix}\\right]$$",
            "text/plain": [
              "<IPython.core.display.Math object>"
            ]
          },
          "metadata": {
            "tags": []
          }
        },
        {
          "output_type": "display_data",
          "data": {
            "text/latex": "$$x^{(4)} = \\left[\\begin{matrix}14.481 - 8.719 \\lambda\\\\2.1223 \\lambda - 3.678\\end{matrix}\\right]$$",
            "text/plain": [
              "<IPython.core.display.Math object>"
            ]
          },
          "metadata": {
            "tags": []
          }
        },
        {
          "output_type": "display_data",
          "data": {
            "text/latex": "$$x_1^{(4)} = 14.481 - 8.719 \\lambda$$",
            "text/plain": [
              "<IPython.core.display.Math object>"
            ]
          },
          "metadata": {
            "tags": []
          }
        },
        {
          "output_type": "display_data",
          "data": {
            "text/latex": "$$x_2^{(4)} = 2.1223 \\lambda - 3.678$$",
            "text/plain": [
              "<IPython.core.display.Math object>"
            ]
          },
          "metadata": {
            "tags": []
          }
        }
      ]
    },
    {
      "cell_type": "code",
      "metadata": {
        "colab": {
          "base_uri": "https://localhost:8080/",
          "height": 538
        },
        "id": "jNGH6JK6nqnC",
        "outputId": "ab99ebe6-7437-468f-badf-4f445021f640"
      },
      "source": [
        "x_dsk, fx_dsk = sven(X3, (X3 - X1), barwidth=0.0008, dsk=True)"
      ],
      "execution_count": null,
      "outputs": [
        {
          "output_type": "display_data",
          "data": {
            "text/latex": "$$\\Delta \\lambda = 0.03330$$",
            "text/plain": [
              "<IPython.core.display.Math object>"
            ]
          },
          "metadata": {
            "tags": []
          }
        },
        {
          "output_type": "display_data",
          "data": {
            "text/latex": "$$x_1 = x_0+1\\Delta =0.03330\\quad f(x_1) = -24.9466$$",
            "text/plain": [
              "<IPython.core.display.Math object>"
            ]
          },
          "metadata": {
            "tags": []
          }
        },
        {
          "output_type": "display_data",
          "data": {
            "text/latex": "$$x_2 = x_1+2\\Delta =0.09990\\quad f(x_2) = -22.2332$$",
            "text/plain": [
              "<IPython.core.display.Math object>"
            ]
          },
          "metadata": {
            "tags": []
          }
        },
        {
          "output_type": "display_data",
          "data": {
            "text/latex": "$$x_3 = \\frac{x_1 + x_2}{2} = 0.0666\\quad f(x_3) = -24.0851$$",
            "text/plain": [
              "<IPython.core.display.Math object>"
            ]
          },
          "metadata": {
            "tags": []
          }
        },
        {
          "output_type": "display_data",
          "data": {
            "text/latex": "$$Інтервал \\ невизначенності \\ за \\ Свеном: [0.0, 0.0666]$$",
            "text/plain": [
              "<IPython.core.display.Math object>"
            ]
          },
          "metadata": {
            "tags": []
          }
        },
        {
          "output_type": "display_data",
          "data": {
            "image/png": "[encoded data removed]",
            "text/plain": [
              "<Figure size 1008x504 with 1 Axes>"
            ]
          },
          "metadata": {
            "tags": [],
            "needs_background": "light"
          }
        }
      ]
    },
    {
      "cell_type": "code",
      "metadata": {
        "scrolled": true,
        "colab": {
          "base_uri": "https://localhost:8080/",
          "height": 101
        },
        "id": "UL_Wh3vPnqnC",
        "outputId": "40a28fcf-575f-4ddb-cec3-70e7213014fb"
      },
      "source": [
        "lmbd_4 = round(dsk_paul(x_dsk, fx_dsk, 0.01), 4)\n",
        "printm('\\lambda_3 = ' + str(lmbd_4))\n",
        "X4 = Matrix([\n",
        "    [round(x11.subs(lmbd, lmbd_4), 4)],\n",
        "    [round(x12.subs(lmbd, lmbd_4), 4)]\n",
        "])\n",
        "printm('x^{(4)} = ' + L(X4))\n",
        "printm('f(x^{(4)}) =' + L(f_value(X4[0], X4[1])))"
      ],
      "execution_count": null,
      "outputs": [
        {
          "output_type": "display_data",
          "data": {
            "text/latex": "$$\\lambda_3 = 0.0264$$",
            "text/plain": [
              "<IPython.core.display.Math object>"
            ]
          },
          "metadata": {
            "tags": []
          }
        },
        {
          "output_type": "display_data",
          "data": {
            "text/latex": "$$x^{(4)} = \\left[\\begin{matrix}14.2508\\\\-3.622\\end{matrix}\\right]$$",
            "text/plain": [
              "<IPython.core.display.Math object>"
            ]
          },
          "metadata": {
            "tags": []
          }
        },
        {
          "output_type": "display_data",
          "data": {
            "text/latex": "$$f(x^{(4)}) =-25.0012$$",
            "text/plain": [
              "<IPython.core.display.Math object>"
            ]
          },
          "metadata": {
            "tags": []
          }
        }
      ]
    },
    {
      "cell_type": "markdown",
      "metadata": {
        "id": "bar8EBjYnqnC"
      },
      "source": [
        "### Траекторія руху"
      ]
    },
    {
      "cell_type": "code",
      "metadata": {
        "colab": {
          "base_uri": "https://localhost:8080/",
          "height": 623
        },
        "id": "izIBfiIqnqnC",
        "outputId": "7f8bd4c7-4ac8-46dc-f9e5-e3712e5c2777"
      },
      "source": [
        "plt.plot([X0[0], X1[0], X2[0], X3[0], X4[0]], [X0[1], X1[1], X2[1], X3[1], X4[1]], 'b.-')\n",
        "plt.gcf().set_size_inches((16, 10))\n",
        "plt.xlabel('X2')\n",
        "plt.ylabel('X1')\n",
        "ax = plt.gca()\n",
        "font = {'family' : 'normal',\n",
        "        'weight' : 'bold',\n",
        "        'size'   : 15}\n",
        "ax.text(X0[0] - 0.3, X0[1] - 0.4, 'x0', fontdict=font)\n",
        "ax.text(X1[0] - 0.4, X1[1] + 1.2, 'x1', fontdict=font)\n",
        "ax.text(X2[0] - 0.05, X2[1] - 1.5, 'x2', fontdict=font)\n",
        "ax.text(X3[0] + 0.08, X3[1] + 0.8, 'x3', fontdict=font)\n",
        "_ = ax.text(X4[0] - 0.3, X4[1] - 0.3, 'x4', fontdict=font)"
      ],
      "execution_count": null,
      "outputs": [
        {
          "output_type": "stream",
          "text": [
            "findfont: Font family ['normal'] not found. Falling back to DejaVu Sans.\n"
          ],
          "name": "stderr"
        },
        {
          "output_type": "display_data",
          "data": {
            "image/png": "[encoded data removed]",
            "text/plain": [
              "<Figure size 1152x720 with 1 Axes>"
            ]
          },
          "metadata": {
            "tags": [],
            "needs_background": "light"
          }
        }
      ]
    },
    {
      "cell_type": "markdown",
      "metadata": {
        "id": "jbmjHQjhj2-W"
      },
      "source": [
        "## Про виконавця"
      ]
    },
    {
      "cell_type": "markdown",
      "metadata": {
        "id": "rATvNva_j6BV"
      },
      "source": [
        "**Казанцев Феофан КМ-82**\n",
        "\n",
        "**Контактний номер**: 0952451345\n",
        "\n",
        "E-mail: feofankazantsev@gmail.com"
      ]
    },
    {
      "cell_type": "markdown",
      "metadata": {
        "id": "ZhpuvNIokPp3"
      },
      "source": [
        "## Посилання "
      ]
    },
    {
      "cell_type": "markdown",
      "metadata": {
        "id": "JzeeNWm9klGs"
      },
      "source": [
        "https://www.youtube.com/playlist?list=PL7gJDv3ibRSg-h6KWuTOEwc77yEXw84OA\n",
        "https://ami.nstu.ru/~headrd/seminar/publik_html/MO_conspect.pdf\n",
        "https://studfile.net/preview/2026460/page:15/\n",
        "https://uk.wikipedia.org/wiki/%D0%9C%D0%B5%D1%82%D0%BE%D0%B4_%D0%B7%D0%BE%D0%BB%D0%BE%D1%82%D0%BE%D0%B3%D0%BE_%D0%BF%D0%B5%D1%80%D0%B5%D1%82%D0%B8%D0%BD%D1%83"
      ]
    }
  ]
}